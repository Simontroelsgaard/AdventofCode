{
 "cells": [
  {
   "cell_type": "code",
   "execution_count": 27,
   "id": "02d891da",
   "metadata": {},
   "outputs": [
    {
     "name": "stdout",
     "output_type": "stream",
     "text": [
      "7701 100.0\n"
     ]
    }
   ],
   "source": [
    "import numpy as np\n",
    "def Transformtopri(s):\n",
    "    if s < 91:\n",
    "        integer = s-38\n",
    "    else:\n",
    "        integer = s-96\n",
    "    return integer\n",
    "\n",
    "\n",
    "f = open(\"C:/Users/simon/OneDrive/Desktop/adventofcode/input3.txt\",\"r\")\n",
    "pri = 0\n",
    "for i in f:\n",
    "    arid = np.zeros((53,1))\n",
    "    l = len(i)\n",
    "    for j in i[0:int((l-1)/2)]:\n",
    "        idx = Transformtopri(ord(j))\n",
    "        arid[idx] = 1\n",
    "    for j in i[int((l-1)/2):l-1]:\n",
    "        idx = Transformtopri(ord(j))\n",
    "        if arid[idx] == 1:\n",
    "            pri += idx\n",
    "            arid[idx] += 1\n",
    "print(pri)\n",
    "        \n",
    "\n",
    "\n"
   ]
  },
  {
   "cell_type": "code",
   "execution_count": 47,
   "id": "a17766ba",
   "metadata": {},
   "outputs": [
    {
     "name": "stdout",
     "output_type": "stream",
     "text": [
      "2644\n"
     ]
    }
   ],
   "source": [
    "# Find sum of prorities for each badge group\n",
    "f = open(\"C:/Users/simon/OneDrive/Desktop/adventofcode/input3.txt\",\"r\")\n",
    "pri = 0\n",
    "count = 0\n",
    "arid2 = np.zeros((53,1))\n",
    "for i in f:\n",
    "    arid = np.zeros((53,1))\n",
    "    l = len(i)\n",
    "    for j in i[0:(l-1)]:\n",
    "        idx = Transformtopri(ord(j))\n",
    "        arid[idx] += 1\n",
    "    for j in range(1,53):\n",
    "        if arid[j] > 0:\n",
    "            arid2[j] += 1\n",
    "    arid = np.zeros((53,1))\n",
    "    count += 1\n",
    "    if count == 3:\n",
    "        for k in range(1,len(arid)):\n",
    "            if arid2[k] == 3:\n",
    "                pri += k\n",
    "                arid2 = np.zeros((53,1))\n",
    "                count = 0\n",
    "                break\n",
    "                \n",
    "print(pri)"
   ]
  }
 ],
 "metadata": {
  "kernelspec": {
   "display_name": "Python 3",
   "language": "python",
   "name": "python3"
  },
  "language_info": {
   "codemirror_mode": {
    "name": "ipython",
    "version": 3
   },
   "file_extension": ".py",
   "mimetype": "text/x-python",
   "name": "python",
   "nbconvert_exporter": "python",
   "pygments_lexer": "ipython3",
   "version": "3.6.13"
  }
 },
 "nbformat": 4,
 "nbformat_minor": 5
}
