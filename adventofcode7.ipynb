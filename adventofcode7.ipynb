{
 "cells": [
  {
   "cell_type": "code",
   "execution_count": 30,
   "id": "73e6eaf6",
   "metadata": {},
   "outputs": [
    {
     "name": "stdout",
     "output_type": "stream",
     "text": [
      "1182909\n"
     ]
    }
   ],
   "source": [
    "import numpy as np\n",
    "f = open(\"C:/Users/stroelsg/OneDrive - Capgemini/Desktop/adventofcode/input7.txt\", \"r\")\n",
    "Names = {}\n",
    "Name = ''\n",
    "L = []\n",
    "d = -1\n",
    "for i in f:\n",
    "    I = i.split()\n",
    "    if I[1] == 'cd':\n",
    "        if I[2]== '..':\n",
    "            L.pop()\n",
    "            d += -1\n",
    "        else:\n",
    "            if I[2] in Names:\n",
    "                b = True\n",
    "                N = I[2]\n",
    "                while b == True:\n",
    "                    N = N+'1'\n",
    "                    if N not in Names:\n",
    "                        b = False\n",
    "                Names[N] = 0\n",
    "                d += 1\n",
    "                L.append([N])\n",
    "            else:\n",
    "                Names[I[2]] = 0\n",
    "                d += 1\n",
    "                L.append([I[2]])\n",
    "        #print(d,L,Names[L[(len(L)-1)][0]])\n",
    "    if I[0].isnumeric()==True:\n",
    "        for k in range(len(L)):\n",
    "            Names[L[k][0]] += int(I[0])\n",
    "        \n",
    "sum = 0\n",
    "for i in Names: \n",
    "    if Names[i] <= 100000:\n",
    "        sum += Names[i]\n",
    "print(sum)"
   ]
  },
  {
   "cell_type": "code",
   "execution_count": 28,
   "id": "449e9565",
   "metadata": {},
   "outputs": [
    {
     "name": "stdout",
     "output_type": "stream",
     "text": [
      "2832508\n"
     ]
    }
   ],
   "source": [
    "mini = 10000000000\n",
    "for i in Names: \n",
    "    if Names[i] >= 2677139:\n",
    "        if Names[i] < mini:\n",
    "            mini = Names[i]\n",
    "print(mini)"
   ]
  },
  {
   "cell_type": "code",
   "execution_count": 24,
   "id": "0045c2bc",
   "metadata": {},
   "outputs": [
    {
     "name": "stdout",
     "output_type": "stream",
     "text": [
      "[2562, 7826, 11756, 15123, 15123, 15123, 23958, 28122, 30443, 30443, 35406, 43660, 45969, 47411, 51165, 54571, 55629, 55629, 62087, 63455, 70441, 70960, 81971, 82637, 83665, 97774, 101940, 101940, 102693, 105997, 112258, 115805, 117473, 118846, 125853, 125853, 129823, 130055, 130120, 130858, 130858, 139542, 139875, 139875, 141078, 142087, 145399, 146142, 149750, 149905, 150671, 159376, 160215, 161061, 165670, 176717, 176717, 178372, 180419, 181254, 181540, 188516, 199534, 203288, 204151, 204422, 212356, 212461, 214742, 217994, 218749, 219638, 219638, 221672, 229687, 229687, 234131, 235867, 238748, 243203, 244567, 252863, 254189, 257337, 258985, 260109, 264524, 268481, 272548, 277720, 278389, 281457, 281457, 282619, 284909, 287407, 322764, 326711, 329280, 338803, 348414, 348914, 356258, 356823, 365950, 390981, 391437, 396406, 403834, 417906, 425147, 444930, 446213, 484200, 494240, 500913, 500913, 541118, 571229, 580144, 590544, 600157, 703677, 717048, 741823, 746938, 752508, 807854, 825158, 845246, 864119, 879834, 889826, 904158, 913784, 918045, 945438, 958345, 976002, 1022318, 1039264, 1053089, 1057988, 1209920, 1400951, 1439695, 1525901, 1707306, 1778764, 1928944, 1972044, 1978542, 1992008, 2023703, 2111823, 2243173, 2424427, 2463904, 2832508, 2861769, 3106371, 3635989, 4378649, 5370216, 7086475, 9203495, 9319261, 10161796, 12229486, 23427191, 42677139]\n"
     ]
    }
   ],
   "source": [
    "print(sorted(Names.values()))"
   ]
  }
 ],
 "metadata": {
  "kernelspec": {
   "display_name": "Python 3 (ipykernel)",
   "language": "python",
   "name": "python3"
  },
  "language_info": {
   "codemirror_mode": {
    "name": "ipython",
    "version": 3
   },
   "file_extension": ".py",
   "mimetype": "text/x-python",
   "name": "python",
   "nbconvert_exporter": "python",
   "pygments_lexer": "ipython3",
   "version": "3.11.0"
  }
 },
 "nbformat": 4,
 "nbformat_minor": 5
}
