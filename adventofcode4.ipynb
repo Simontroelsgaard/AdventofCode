{
 "cells": [
  {
   "cell_type": "code",
   "execution_count": 40,
   "id": "d53875df",
   "metadata": {},
   "outputs": [
    {
     "name": "stdout",
     "output_type": "stream",
     "text": [
      "582\n"
     ]
    }
   ],
   "source": [
    "f = open(\"C:/Users/stroelsg/OneDrive - Capgemini/Desktop/adventofcode/input4.txt\", \"r\")\n",
    "count = 0\n",
    "for i in f:\n",
    "    L = i.split(',')\n",
    "    L1 = [int(L[0].split('-')[0]),int(L[0].split('-')[1]),int(L[1].split('-')[0]),int(L[1].split('-')[1])]\n",
    "    if (L1[0] <= L1[2] and L1[1] >= L1[3]) or (L1[0] >= L1[2] and L1[1] <= L1[3]):\n",
    "        count +=1\n",
    "print(count)\n",
    "\n"
   ]
  },
  {
   "cell_type": "code",
   "execution_count": 44,
   "id": "4e2e9293",
   "metadata": {},
   "outputs": [
    {
     "name": "stdout",
     "output_type": "stream",
     "text": [
      "893\n"
     ]
    }
   ],
   "source": [
    "count = 0\n",
    "f = open(\"C:/Users/stroelsg/OneDrive - Capgemini/Desktop/adventofcode/input4.txt\", \"r\")\n",
    "for i in f:\n",
    "    L = i.split(',')\n",
    "    L1 = [int(L[0].split('-')[0]),int(L[0].split('-')[1]),int(L[1].split('-')[0]),int(L[1].split('-')[1])]\n",
    "    if (L1[0] <= L1[3] and L1[1] >= L1[2]) or (L1[3] <= L1[0] and L1[2] >= L1[1]):\n",
    "        count +=1\n",
    "print(count)"
   ]
  }
 ],
 "metadata": {
  "kernelspec": {
   "display_name": "Python 3 (ipykernel)",
   "language": "python",
   "name": "python3"
  },
  "language_info": {
   "codemirror_mode": {
    "name": "ipython",
    "version": 3
   },
   "file_extension": ".py",
   "mimetype": "text/x-python",
   "name": "python",
   "nbconvert_exporter": "python",
   "pygments_lexer": "ipython3",
   "version": "3.11.0"
  }
 },
 "nbformat": 4,
 "nbformat_minor": 5
}
