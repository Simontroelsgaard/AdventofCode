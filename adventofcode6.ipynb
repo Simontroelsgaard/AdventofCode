{
 "cells": [
  {
   "cell_type": "code",
   "execution_count": 20,
   "id": "ce3fac67",
   "metadata": {},
   "outputs": [
    {
     "name": "stdout",
     "output_type": "stream",
     "text": [
      "1282\n"
     ]
    }
   ],
   "source": [
    "import numpy as np\n",
    "f = open(\"C:/Users/stroelsg/OneDrive - Capgemini/Desktop/adventofcode/input6.txt\", \"r\")\n",
    "Current = np.zeros(28)\n",
    "Outar = np.zeros(4)\n",
    "count = 0\n",
    "k = 0\n",
    "for i in f:\n",
    "    for j in i:\n",
    "        Current[ord(j)-97] += 1\n",
    "        Current[int(Outar[k])] -= 1\n",
    "        Outar[k] = ord(j)-97\n",
    "        k += 1\n",
    "        count += 1\n",
    "        if k == 4:\n",
    "            k = 0\n",
    "        \n",
    "        if Current[int(Outar[0])] < 1.5 and Current[int(Outar[1])]< 1.5 and Current[int(Outar[2])] < 1.5 and Current[int(Outar[3])] < 1.5 and count >3:\n",
    "            print(count)\n",
    "            break"
   ]
  },
  {
   "cell_type": "code",
   "execution_count": 23,
   "id": "0cb6c26d",
   "metadata": {},
   "outputs": [
    {
     "name": "stdout",
     "output_type": "stream",
     "text": [
      "3513\n"
     ]
    }
   ],
   "source": [
    "import numpy as np\n",
    "f = open(\"C:/Users/stroelsg/OneDrive - Capgemini/Desktop/adventofcode/input6.txt\", \"r\")\n",
    "n = 14\n",
    "Current = np.zeros(28)\n",
    "Outar = np.zeros(n)\n",
    "count = 0\n",
    "k = 0\n",
    "pos = False\n",
    "for i in f:\n",
    "    for j in i:\n",
    "        Current[ord(j)-97] += 1\n",
    "        Current[int(Outar[k])] -= 1\n",
    "        Outar[k] = ord(j)-97\n",
    "        k += 1\n",
    "        count += 1\n",
    "        if k == n:\n",
    "            k = 0\n",
    "        \n",
    "        for l in range(n):\n",
    "            if count < 14:\n",
    "                break\n",
    "            if Current[int(Outar[l])] < 1.5:\n",
    "                pos = True\n",
    "            else:\n",
    "                pos = False\n",
    "                break\n",
    "            \n",
    "        if pos == True:   \n",
    "            print(count)\n",
    "            break"
   ]
  }
 ],
 "metadata": {
  "kernelspec": {
   "display_name": "Python 3 (ipykernel)",
   "language": "python",
   "name": "python3"
  },
  "language_info": {
   "codemirror_mode": {
    "name": "ipython",
    "version": 3
   },
   "file_extension": ".py",
   "mimetype": "text/x-python",
   "name": "python",
   "nbconvert_exporter": "python",
   "pygments_lexer": "ipython3",
   "version": "3.11.0"
  }
 },
 "nbformat": 4,
 "nbformat_minor": 5
}
